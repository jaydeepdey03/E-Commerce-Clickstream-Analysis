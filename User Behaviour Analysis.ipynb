{
 "cells": [
  {
   "cell_type": "code",
   "execution_count": 170,
   "metadata": {
    "id": "A5GJu4TdSHK-"
   },
   "outputs": [],
   "source": [
    "%matplotlib inline \n",
    "\n",
    "import pandas as pd\n",
    "import numpy as np\n",
    "\n",
    "from pandas_profiling import ProfileReport\n",
    "import statsmodels.api as sm\n",
    "\n",
    "from sklearn.preprocessing import StandardScaler\n",
    "from sklearn.metrics import confusion_matrix, classification_report\n",
    "from sklearn.model_selection import GridSearchCV\n",
    "from sklearn.metrics import make_scorer, recall_score\n",
    "\n",
    "from sklearn.decomposition import PCA\n",
    "from sklearn.datasets import make_classification\n",
    "from sklearn.ensemble import ExtraTreesClassifier\n",
    "\n",
    "from sklearn.cluster import KMeans\n",
    "from yellowbrick.cluster import KElbowVisualizer\n",
    "\n",
    "import seaborn as sns\n",
    "import matplotlib.pyplot as plt\n",
    "import pickle\n",
    "\n",
    "# import the pickle files"
   ]
  },
  {
   "cell_type": "code",
   "execution_count": 171,
   "metadata": {
    "colab": {
     "base_uri": "https://localhost:8080/",
     "height": 217
    },
    "id": "GfwrGNaYRy4-",
    "outputId": "4c9bfc5e-3214-427b-de38-4d0f5ca31eb0"
   },
   "outputs": [
    {
     "data": {
      "text/html": [
       "<div>\n",
       "<style scoped>\n",
       "    .dataframe tbody tr th:only-of-type {\n",
       "        vertical-align: middle;\n",
       "    }\n",
       "\n",
       "    .dataframe tbody tr th {\n",
       "        vertical-align: top;\n",
       "    }\n",
       "\n",
       "    .dataframe thead th {\n",
       "        text-align: right;\n",
       "    }\n",
       "</style>\n",
       "<table border=\"1\" class=\"dataframe\">\n",
       "  <thead>\n",
       "    <tr style=\"text-align: right;\">\n",
       "      <th></th>\n",
       "      <th>Administrative</th>\n",
       "      <th>Administrative_Duration</th>\n",
       "      <th>Informational</th>\n",
       "      <th>Informational_Duration</th>\n",
       "      <th>ProductRelated_Duration</th>\n",
       "      <th>ExitRates</th>\n",
       "      <th>PageValues</th>\n",
       "      <th>Month</th>\n",
       "      <th>Revenue</th>\n",
       "      <th>SpecialDay_0.2</th>\n",
       "      <th>...</th>\n",
       "      <th>TrafficType_3</th>\n",
       "      <th>TrafficType_4</th>\n",
       "      <th>TrafficType_5</th>\n",
       "      <th>TrafficType_6</th>\n",
       "      <th>TrafficType_7</th>\n",
       "      <th>TrafficType_8</th>\n",
       "      <th>TrafficType_9</th>\n",
       "      <th>VisitorType_Other</th>\n",
       "      <th>VisitorType_Returning_Visitor</th>\n",
       "      <th>Weekend_True</th>\n",
       "    </tr>\n",
       "  </thead>\n",
       "  <tbody>\n",
       "    <tr>\n",
       "      <th>0</th>\n",
       "      <td>0</td>\n",
       "      <td>0.0</td>\n",
       "      <td>0</td>\n",
       "      <td>0.0</td>\n",
       "      <td>0.000000</td>\n",
       "      <td>0.20</td>\n",
       "      <td>0.0</td>\n",
       "      <td>2</td>\n",
       "      <td>False</td>\n",
       "      <td>0</td>\n",
       "      <td>...</td>\n",
       "      <td>0</td>\n",
       "      <td>0</td>\n",
       "      <td>0</td>\n",
       "      <td>0</td>\n",
       "      <td>0</td>\n",
       "      <td>0</td>\n",
       "      <td>0</td>\n",
       "      <td>0</td>\n",
       "      <td>1</td>\n",
       "      <td>0</td>\n",
       "    </tr>\n",
       "    <tr>\n",
       "      <th>1</th>\n",
       "      <td>0</td>\n",
       "      <td>0.0</td>\n",
       "      <td>0</td>\n",
       "      <td>0.0</td>\n",
       "      <td>64.000000</td>\n",
       "      <td>0.10</td>\n",
       "      <td>0.0</td>\n",
       "      <td>2</td>\n",
       "      <td>False</td>\n",
       "      <td>0</td>\n",
       "      <td>...</td>\n",
       "      <td>0</td>\n",
       "      <td>0</td>\n",
       "      <td>0</td>\n",
       "      <td>0</td>\n",
       "      <td>0</td>\n",
       "      <td>0</td>\n",
       "      <td>0</td>\n",
       "      <td>0</td>\n",
       "      <td>1</td>\n",
       "      <td>0</td>\n",
       "    </tr>\n",
       "    <tr>\n",
       "      <th>2</th>\n",
       "      <td>0</td>\n",
       "      <td>0.0</td>\n",
       "      <td>0</td>\n",
       "      <td>0.0</td>\n",
       "      <td>0.000000</td>\n",
       "      <td>0.20</td>\n",
       "      <td>0.0</td>\n",
       "      <td>2</td>\n",
       "      <td>False</td>\n",
       "      <td>0</td>\n",
       "      <td>...</td>\n",
       "      <td>1</td>\n",
       "      <td>0</td>\n",
       "      <td>0</td>\n",
       "      <td>0</td>\n",
       "      <td>0</td>\n",
       "      <td>0</td>\n",
       "      <td>0</td>\n",
       "      <td>0</td>\n",
       "      <td>1</td>\n",
       "      <td>0</td>\n",
       "    </tr>\n",
       "    <tr>\n",
       "      <th>3</th>\n",
       "      <td>0</td>\n",
       "      <td>0.0</td>\n",
       "      <td>0</td>\n",
       "      <td>0.0</td>\n",
       "      <td>2.666667</td>\n",
       "      <td>0.14</td>\n",
       "      <td>0.0</td>\n",
       "      <td>2</td>\n",
       "      <td>False</td>\n",
       "      <td>0</td>\n",
       "      <td>...</td>\n",
       "      <td>0</td>\n",
       "      <td>1</td>\n",
       "      <td>0</td>\n",
       "      <td>0</td>\n",
       "      <td>0</td>\n",
       "      <td>0</td>\n",
       "      <td>0</td>\n",
       "      <td>0</td>\n",
       "      <td>1</td>\n",
       "      <td>0</td>\n",
       "    </tr>\n",
       "    <tr>\n",
       "      <th>4</th>\n",
       "      <td>0</td>\n",
       "      <td>0.0</td>\n",
       "      <td>0</td>\n",
       "      <td>0.0</td>\n",
       "      <td>627.500000</td>\n",
       "      <td>0.05</td>\n",
       "      <td>0.0</td>\n",
       "      <td>2</td>\n",
       "      <td>False</td>\n",
       "      <td>0</td>\n",
       "      <td>...</td>\n",
       "      <td>0</td>\n",
       "      <td>1</td>\n",
       "      <td>0</td>\n",
       "      <td>0</td>\n",
       "      <td>0</td>\n",
       "      <td>0</td>\n",
       "      <td>0</td>\n",
       "      <td>0</td>\n",
       "      <td>1</td>\n",
       "      <td>1</td>\n",
       "    </tr>\n",
       "  </tbody>\n",
       "</table>\n",
       "<p>5 rows × 63 columns</p>\n",
       "</div>"
      ],
      "text/plain": [
       "   Administrative  Administrative_Duration  Informational  \\\n",
       "0               0                      0.0              0   \n",
       "1               0                      0.0              0   \n",
       "2               0                      0.0              0   \n",
       "3               0                      0.0              0   \n",
       "4               0                      0.0              0   \n",
       "\n",
       "   Informational_Duration  ProductRelated_Duration  ExitRates  PageValues  \\\n",
       "0                     0.0                 0.000000       0.20         0.0   \n",
       "1                     0.0                64.000000       0.10         0.0   \n",
       "2                     0.0                 0.000000       0.20         0.0   \n",
       "3                     0.0                 2.666667       0.14         0.0   \n",
       "4                     0.0               627.500000       0.05         0.0   \n",
       "\n",
       "   Month  Revenue  SpecialDay_0.2  ...  TrafficType_3  TrafficType_4  \\\n",
       "0      2    False               0  ...              0              0   \n",
       "1      2    False               0  ...              0              0   \n",
       "2      2    False               0  ...              1              0   \n",
       "3      2    False               0  ...              0              1   \n",
       "4      2    False               0  ...              0              1   \n",
       "\n",
       "   TrafficType_5  TrafficType_6  TrafficType_7  TrafficType_8  TrafficType_9  \\\n",
       "0              0              0              0              0              0   \n",
       "1              0              0              0              0              0   \n",
       "2              0              0              0              0              0   \n",
       "3              0              0              0              0              0   \n",
       "4              0              0              0              0              0   \n",
       "\n",
       "   VisitorType_Other  VisitorType_Returning_Visitor  Weekend_True  \n",
       "0                  0                              1             0  \n",
       "1                  0                              1             0  \n",
       "2                  0                              1             0  \n",
       "3                  0                              1             0  \n",
       "4                  0                              1             1  \n",
       "\n",
       "[5 rows x 63 columns]"
      ]
     },
     "execution_count": 171,
     "metadata": {},
     "output_type": "execute_result"
    }
   ],
   "source": [
    "# load data    \n",
    "with open('df_data.pickle', 'rb') as f:\n",
    "    df_data = pickle.load(f)\n",
    "df_data.head()"
   ]
  },
  {
   "attachments": {},
   "cell_type": "markdown",
   "metadata": {
    "id": "SGjBlxpAQjtB"
   },
   "source": [
    "#### Create user-behavior clusters based on the full dataset's data on purchasing behaviour.\n",
    "\n",
    "1. What number of clusters exist? What are the main differences in the cluster sizes and purchasing ratios between the various clusters?\n",
    "3. Give each cluster that corresponds to a different variance in features a thorough investigation, and then pinpoint some behaviours that go with each specific cluster."
   ]
  },
  {
   "cell_type": "code",
   "execution_count": 172,
   "metadata": {},
   "outputs": [
    {
     "data": {
      "text/plain": [
       "Index(['Administrative', 'Administrative_Duration', 'Informational',\n",
       "       'Informational_Duration', 'ProductRelated_Duration', 'ExitRates',\n",
       "       'PageValues', 'Month', 'Revenue', 'SpecialDay_0.2', 'SpecialDay_0.4',\n",
       "       'SpecialDay_0.6', 'SpecialDay_0.8', 'SpecialDay_1.0',\n",
       "       'OperatingSystems_2', 'OperatingSystems_3', 'OperatingSystems_4',\n",
       "       'OperatingSystems_5', 'OperatingSystems_6', 'OperatingSystems_7',\n",
       "       'OperatingSystems_8', 'Browser_10', 'Browser_11', 'Browser_12',\n",
       "       'Browser_13', 'Browser_2', 'Browser_3', 'Browser_4', 'Browser_5',\n",
       "       'Browser_6', 'Browser_7', 'Browser_8', 'Browser_9', 'Region_2',\n",
       "       'Region_3', 'Region_4', 'Region_5', 'Region_6', 'Region_7', 'Region_8',\n",
       "       'Region_9', 'TrafficType_10', 'TrafficType_11', 'TrafficType_12',\n",
       "       'TrafficType_13', 'TrafficType_14', 'TrafficType_15', 'TrafficType_16',\n",
       "       'TrafficType_17', 'TrafficType_18', 'TrafficType_19', 'TrafficType_2',\n",
       "       'TrafficType_20', 'TrafficType_3', 'TrafficType_4', 'TrafficType_5',\n",
       "       'TrafficType_6', 'TrafficType_7', 'TrafficType_8', 'TrafficType_9',\n",
       "       'VisitorType_Other', 'VisitorType_Returning_Visitor', 'Weekend_True'],\n",
       "      dtype='object')"
      ]
     },
     "execution_count": 172,
     "metadata": {},
     "output_type": "execute_result"
    }
   ],
   "source": [
    "#selecting data before transformations for supervised learning\n",
    "df_clustering = df_data.copy()\n",
    "df_clustering.columns"
   ]
  },
  {
   "cell_type": "code",
   "execution_count": 173,
   "metadata": {},
   "outputs": [
    {
     "data": {
      "text/plain": [
       "False    10137\n",
       "True      1705\n",
       "Name: Revenue, dtype: int64"
      ]
     },
     "execution_count": 173,
     "metadata": {},
     "output_type": "execute_result"
    }
   ],
   "source": [
    "df_clustering['Revenue'].value_counts()"
   ]
  },
  {
   "cell_type": "code",
   "execution_count": 174,
   "metadata": {},
   "outputs": [],
   "source": [
    "#from helper functions\n",
    "\n",
    "def return_feature_rank_from_RF(X_train,y_train, features): \n",
    "# Build a forest and compute the impurity-based feature importances\n",
    "    forest = ExtraTreesClassifier(n_estimators=20,random_state=0)\n",
    "    forest.fit(X_train, y_train)\n",
    "    importances = forest.feature_importances_\n",
    "    std = np.std([tree.feature_importances_ for tree in forest.estimators_],axis=0)\n",
    "    indices = np.argsort(importances)[::-1]\n",
    "\n",
    "    # Print the feature ranking\n",
    "    print(\"Feature ranking:\")\n",
    "\n",
    "    for f in range(X_train.shape[1]):\n",
    "        print(\"%d. %s (%f)\" % (f + 1, features[indices[f]], importances[indices[f]]))\n",
    "\n",
    "    return (indices,importances)"
   ]
  },
  {
   "cell_type": "code",
   "execution_count": 175,
   "metadata": {},
   "outputs": [
    {
     "name": "stdout",
     "output_type": "stream",
     "text": [
      "Feature ranking:\n",
      "1. PageValues (0.318518)\n",
      "2. ProductRelated_Duration (0.092071)\n",
      "3. ExitRates (0.088754)\n",
      "4. Administrative_Duration (0.061387)\n",
      "5. Administrative (0.061031)\n",
      "6. Month (0.055146)\n",
      "7. Informational_Duration (0.032119)\n",
      "8. Informational (0.031637)\n",
      "9. Weekend_True (0.020194)\n",
      "10. Region_3 (0.018343)\n",
      "11. Browser_2 (0.016280)\n",
      "12. TrafficType_2 (0.015153)\n",
      "13. VisitorType_Returning_Visitor (0.013480)\n",
      "14. OperatingSystems_2 (0.013266)\n",
      "15. Region_4 (0.012047)\n",
      "16. Region_2 (0.011865)\n",
      "17. Region_6 (0.010093)\n",
      "18. OperatingSystems_3 (0.009425)\n",
      "19. Region_7 (0.009333)\n",
      "20. Browser_4 (0.007884)\n",
      "21. TrafficType_4 (0.007584)\n",
      "22. TrafficType_3 (0.007192)\n",
      "23. Region_9 (0.006816)\n",
      "24. Region_8 (0.006439)\n",
      "25. OperatingSystems_4 (0.006007)\n",
      "26. Browser_5 (0.005830)\n",
      "27. TrafficType_8 (0.005562)\n",
      "28. TrafficType_10 (0.005432)\n",
      "29. TrafficType_6 (0.005235)\n",
      "30. Region_5 (0.004904)\n",
      "31. TrafficType_5 (0.004080)\n",
      "32. TrafficType_11 (0.004072)\n",
      "33. TrafficType_13 (0.003702)\n",
      "34. Browser_10 (0.003334)\n",
      "35. TrafficType_20 (0.002726)\n",
      "36. SpecialDay_0.6 (0.002687)\n",
      "37. SpecialDay_0.4 (0.002400)\n",
      "38. Browser_6 (0.002346)\n",
      "39. SpecialDay_0.2 (0.001889)\n",
      "40. Browser_8 (0.001800)\n",
      "41. SpecialDay_0.8 (0.001714)\n",
      "42. TrafficType_7 (0.001425)\n",
      "43. SpecialDay_1.0 (0.001375)\n",
      "44. Browser_7 (0.001160)\n",
      "45. VisitorType_Other (0.001036)\n",
      "46. Browser_12 (0.000838)\n",
      "47. Browser_3 (0.000785)\n",
      "48. TrafficType_9 (0.000766)\n",
      "49. OperatingSystems_8 (0.000676)\n",
      "50. OperatingSystems_6 (0.000464)\n",
      "51. TrafficType_16 (0.000353)\n",
      "52. TrafficType_14 (0.000339)\n",
      "53. OperatingSystems_7 (0.000230)\n",
      "54. Browser_13 (0.000198)\n",
      "55. Browser_11 (0.000148)\n",
      "56. TrafficType_15 (0.000138)\n",
      "57. TrafficType_19 (0.000122)\n",
      "58. OperatingSystems_5 (0.000104)\n",
      "59. TrafficType_18 (0.000067)\n",
      "60. Browser_9 (0.000003)\n",
      "61. TrafficType_12 (0.000000)\n",
      "62. TrafficType_17 (0.000000)\n"
     ]
    }
   ],
   "source": [
    "#Calculate, print, and plot the feature importances, in descending order of importance.\n",
    "y = df_clustering['Revenue'].values\n",
    "del df_clustering['Revenue']\n",
    "\n",
    "features = list(df_clustering.columns)\n",
    "X = df_clustering.values\n",
    "\n",
    "indices, importances = return_feature_rank_from_RF(X,y, features)"
   ]
  },
  {
   "cell_type": "markdown",
   "metadata": {},
   "source": [
    "##### It is reasonable to look at only features with importance > 0.030"
   ]
  },
  {
   "cell_type": "code",
   "execution_count": 176,
   "metadata": {},
   "outputs": [
    {
     "name": "stdout",
     "output_type": "stream",
     "text": [
      "Selected features:\n"
     ]
    },
    {
     "data": {
      "text/plain": [
       "['Administrative',\n",
       " 'Administrative_Duration',\n",
       " 'Informational',\n",
       " 'Informational_Duration',\n",
       " 'ProductRelated_Duration',\n",
       " 'ExitRates',\n",
       " 'PageValues',\n",
       " 'Month']"
      ]
     },
     "execution_count": 176,
     "metadata": {},
     "output_type": "execute_result"
    }
   ],
   "source": [
    "idx = list(np.where(importances > 0.030)[0])\n",
    "selected_columns = [f for f in features if features.index(f) in idx]\n",
    "\n",
    "print(\"Selected features:\")\n",
    "selected_columns"
   ]
  }
 ],
 "metadata": {
  "colab": {
   "collapsed_sections": [
    "nCXFHXr8Qjs_",
    "0tpS8JDKQjs_",
    "SGjBlxpAQjtB"
   ],
   "name": "ML_for_Data_Science 20210506.ipynb",
   "provenance": []
  },
  "kernelspec": {
   "display_name": "Python 3",
   "language": "python",
   "name": "python3"
  },
  "language_info": {
   "codemirror_mode": {
    "name": "ipython",
    "version": 3
   },
   "file_extension": ".py",
   "mimetype": "text/x-python",
   "name": "python",
   "nbconvert_exporter": "python",
   "pygments_lexer": "ipython3",
   "version": "3.8.7"
  },
  "toc": {
   "base_numbering": 1,
   "nav_menu": {},
   "number_sections": true,
   "sideBar": true,
   "skip_h1_title": false,
   "title_cell": "Table of Contents",
   "title_sidebar": "Contents",
   "toc_cell": false,
   "toc_position": {
    "height": "calc(100% - 180px)",
    "left": "10px",
    "top": "150px",
    "width": "329.797px"
   },
   "toc_section_display": true,
   "toc_window_display": true
  },
  "vscode": {
   "interpreter": {
    "hash": "28e1b576861228abcf292d5aee661eb2e4c4972fc2d268dd66cc4c0717cd3198"
   }
  }
 },
 "nbformat": 4,
 "nbformat_minor": 1
}
