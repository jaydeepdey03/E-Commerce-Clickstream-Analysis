{
 "cells": [
  {
   "cell_type": "markdown",
   "metadata": {},
   "source": [
    "# Download data and import libraries"
   ]
  },
  {
   "cell_type": "code",
   "execution_count": 1,
   "metadata": {
    "id": "A5GJu4TdSHK-"
   },
   "outputs": [
    {
     "name": "stderr",
     "output_type": "stream",
     "text": [
      "C:\\Users\\jayde\\AppData\\Local\\Temp\\ipykernel_19576\\3490645376.py:6: DeprecationWarning: `import pandas_profiling` is going to be deprecated by April 1st. Please use `import ydata_profiling` instead.\n",
      "  from pandas_profiling import ProfileReport\n"
     ]
    }
   ],
   "source": [
    "%matplotlib inline \n",
    "\n",
    "import pandas as pd\n",
    "import numpy as np\n",
    "\n",
    "from pandas_profiling import ProfileReport\n",
    "import statsmodels.api as sm\n",
    "\n",
    "from sklearn.preprocessing import StandardScaler\n",
    "from sklearn.metrics import confusion_matrix, classification_report\n",
    "from sklearn.model_selection import GridSearchCV\n",
    "from sklearn.metrics import make_scorer, recall_score\n",
    "\n",
    "import seaborn as sns\n",
    "import matplotlib.pyplot as plt\n",
    "import pickle"
   ]
  },
  {
   "cell_type": "code",
   "execution_count": 2,
   "metadata": {
    "colab": {
     "base_uri": "https://localhost:8080/",
     "height": 217
    },
    "id": "GfwrGNaYRy4-",
    "outputId": "4c9bfc5e-3214-427b-de38-4d0f5ca31eb0"
   },
   "outputs": [
    {
     "data": {
      "text/html": [
       "<div>\n",
       "<style scoped>\n",
       "    .dataframe tbody tr th:only-of-type {\n",
       "        vertical-align: middle;\n",
       "    }\n",
       "\n",
       "    .dataframe tbody tr th {\n",
       "        vertical-align: top;\n",
       "    }\n",
       "\n",
       "    .dataframe thead th {\n",
       "        text-align: right;\n",
       "    }\n",
       "</style>\n",
       "<table border=\"1\" class=\"dataframe\">\n",
       "  <thead>\n",
       "    <tr style=\"text-align: right;\">\n",
       "      <th></th>\n",
       "      <th>Administrative</th>\n",
       "      <th>Administrative_Duration</th>\n",
       "      <th>Informational</th>\n",
       "      <th>Informational_Duration</th>\n",
       "      <th>ProductRelated</th>\n",
       "      <th>ProductRelated_Duration</th>\n",
       "      <th>BounceRates</th>\n",
       "      <th>ExitRates</th>\n",
       "      <th>PageValues</th>\n",
       "      <th>SpecialDay</th>\n",
       "      <th>Month</th>\n",
       "      <th>OperatingSystems</th>\n",
       "      <th>Browser</th>\n",
       "      <th>Region</th>\n",
       "      <th>TrafficType</th>\n",
       "      <th>VisitorType</th>\n",
       "      <th>Weekend</th>\n",
       "      <th>Revenue</th>\n",
       "    </tr>\n",
       "  </thead>\n",
       "  <tbody>\n",
       "    <tr>\n",
       "      <th>0</th>\n",
       "      <td>0</td>\n",
       "      <td>0.0</td>\n",
       "      <td>0</td>\n",
       "      <td>0.0</td>\n",
       "      <td>1</td>\n",
       "      <td>0.000000</td>\n",
       "      <td>0.20</td>\n",
       "      <td>0.20</td>\n",
       "      <td>0.0</td>\n",
       "      <td>0.0</td>\n",
       "      <td>Feb</td>\n",
       "      <td>1</td>\n",
       "      <td>1</td>\n",
       "      <td>1</td>\n",
       "      <td>1</td>\n",
       "      <td>Returning_Visitor</td>\n",
       "      <td>False</td>\n",
       "      <td>False</td>\n",
       "    </tr>\n",
       "    <tr>\n",
       "      <th>1</th>\n",
       "      <td>0</td>\n",
       "      <td>0.0</td>\n",
       "      <td>0</td>\n",
       "      <td>0.0</td>\n",
       "      <td>2</td>\n",
       "      <td>64.000000</td>\n",
       "      <td>0.00</td>\n",
       "      <td>0.10</td>\n",
       "      <td>0.0</td>\n",
       "      <td>0.0</td>\n",
       "      <td>Feb</td>\n",
       "      <td>2</td>\n",
       "      <td>2</td>\n",
       "      <td>1</td>\n",
       "      <td>2</td>\n",
       "      <td>Returning_Visitor</td>\n",
       "      <td>False</td>\n",
       "      <td>False</td>\n",
       "    </tr>\n",
       "    <tr>\n",
       "      <th>2</th>\n",
       "      <td>0</td>\n",
       "      <td>0.0</td>\n",
       "      <td>0</td>\n",
       "      <td>0.0</td>\n",
       "      <td>1</td>\n",
       "      <td>0.000000</td>\n",
       "      <td>0.20</td>\n",
       "      <td>0.20</td>\n",
       "      <td>0.0</td>\n",
       "      <td>0.0</td>\n",
       "      <td>Feb</td>\n",
       "      <td>4</td>\n",
       "      <td>1</td>\n",
       "      <td>9</td>\n",
       "      <td>3</td>\n",
       "      <td>Returning_Visitor</td>\n",
       "      <td>False</td>\n",
       "      <td>False</td>\n",
       "    </tr>\n",
       "    <tr>\n",
       "      <th>3</th>\n",
       "      <td>0</td>\n",
       "      <td>0.0</td>\n",
       "      <td>0</td>\n",
       "      <td>0.0</td>\n",
       "      <td>2</td>\n",
       "      <td>2.666667</td>\n",
       "      <td>0.05</td>\n",
       "      <td>0.14</td>\n",
       "      <td>0.0</td>\n",
       "      <td>0.0</td>\n",
       "      <td>Feb</td>\n",
       "      <td>3</td>\n",
       "      <td>2</td>\n",
       "      <td>2</td>\n",
       "      <td>4</td>\n",
       "      <td>Returning_Visitor</td>\n",
       "      <td>False</td>\n",
       "      <td>False</td>\n",
       "    </tr>\n",
       "    <tr>\n",
       "      <th>4</th>\n",
       "      <td>0</td>\n",
       "      <td>0.0</td>\n",
       "      <td>0</td>\n",
       "      <td>0.0</td>\n",
       "      <td>10</td>\n",
       "      <td>627.500000</td>\n",
       "      <td>0.02</td>\n",
       "      <td>0.05</td>\n",
       "      <td>0.0</td>\n",
       "      <td>0.0</td>\n",
       "      <td>Feb</td>\n",
       "      <td>3</td>\n",
       "      <td>3</td>\n",
       "      <td>1</td>\n",
       "      <td>4</td>\n",
       "      <td>Returning_Visitor</td>\n",
       "      <td>True</td>\n",
       "      <td>False</td>\n",
       "    </tr>\n",
       "  </tbody>\n",
       "</table>\n",
       "</div>"
      ],
      "text/plain": [
       "   Administrative  Administrative_Duration  Informational  \\\n",
       "0               0                      0.0              0   \n",
       "1               0                      0.0              0   \n",
       "2               0                      0.0              0   \n",
       "3               0                      0.0              0   \n",
       "4               0                      0.0              0   \n",
       "\n",
       "   Informational_Duration  ProductRelated  ProductRelated_Duration  \\\n",
       "0                     0.0               1                 0.000000   \n",
       "1                     0.0               2                64.000000   \n",
       "2                     0.0               1                 0.000000   \n",
       "3                     0.0               2                 2.666667   \n",
       "4                     0.0              10               627.500000   \n",
       "\n",
       "   BounceRates  ExitRates  PageValues  SpecialDay Month  OperatingSystems  \\\n",
       "0         0.20       0.20         0.0         0.0   Feb                 1   \n",
       "1         0.00       0.10         0.0         0.0   Feb                 2   \n",
       "2         0.20       0.20         0.0         0.0   Feb                 4   \n",
       "3         0.05       0.14         0.0         0.0   Feb                 3   \n",
       "4         0.02       0.05         0.0         0.0   Feb                 3   \n",
       "\n",
       "   Browser  Region  TrafficType        VisitorType  Weekend  Revenue  \n",
       "0        1       1            1  Returning_Visitor    False    False  \n",
       "1        2       1            2  Returning_Visitor    False    False  \n",
       "2        1       9            3  Returning_Visitor    False    False  \n",
       "3        2       2            4  Returning_Visitor    False    False  \n",
       "4        3       1            4  Returning_Visitor     True    False  "
      ]
     },
     "execution_count": 2,
     "metadata": {},
     "output_type": "execute_result"
    }
   ],
   "source": [
    "df_data = pd.read_csv(\"online_shoppers_intention.csv\")\n",
    "df_data.head()"
   ]
  },
  {
   "cell_type": "markdown",
   "metadata": {},
   "source": [
    "# Exploratory Data Analysis"
   ]
  },
  {
   "cell_type": "code",
   "execution_count": 3,
   "metadata": {
    "colab": {
     "base_uri": "https://localhost:8080/",
     "height": 912
    },
    "id": "NVtRCYfmQjtC",
    "outputId": "4ab45902-8816-4f90-abd4-249c34e4df40"
   },
   "outputs": [
    {
     "name": "stdout",
     "output_type": "stream",
     "text": [
      "<class 'pandas.core.frame.DataFrame'>\n",
      "RangeIndex: 12330 entries, 0 to 12329\n",
      "Data columns (total 18 columns):\n",
      " #   Column                   Non-Null Count  Dtype  \n",
      "---  ------                   --------------  -----  \n",
      " 0   Administrative           12330 non-null  int64  \n",
      " 1   Administrative_Duration  12330 non-null  float64\n",
      " 2   Informational            12330 non-null  int64  \n",
      " 3   Informational_Duration   12330 non-null  float64\n",
      " 4   ProductRelated           12330 non-null  int64  \n",
      " 5   ProductRelated_Duration  12330 non-null  float64\n",
      " 6   BounceRates              12330 non-null  float64\n",
      " 7   ExitRates                12330 non-null  float64\n",
      " 8   PageValues               12330 non-null  float64\n",
      " 9   SpecialDay               12330 non-null  float64\n",
      " 10  Month                    12330 non-null  object \n",
      " 11  OperatingSystems         12330 non-null  int64  \n",
      " 12  Browser                  12330 non-null  int64  \n",
      " 13  Region                   12330 non-null  int64  \n",
      " 14  TrafficType              12330 non-null  int64  \n",
      " 15  VisitorType              12330 non-null  object \n",
      " 16  Weekend                  12330 non-null  bool   \n",
      " 17  Revenue                  12330 non-null  bool   \n",
      "dtypes: bool(2), float64(7), int64(7), object(2)\n",
      "memory usage: 1.5+ MB\n"
     ]
    },
    {
     "data": {
      "text/html": [
       "<div>\n",
       "<style scoped>\n",
       "    .dataframe tbody tr th:only-of-type {\n",
       "        vertical-align: middle;\n",
       "    }\n",
       "\n",
       "    .dataframe tbody tr th {\n",
       "        vertical-align: top;\n",
       "    }\n",
       "\n",
       "    .dataframe thead th {\n",
       "        text-align: right;\n",
       "    }\n",
       "</style>\n",
       "<table border=\"1\" class=\"dataframe\">\n",
       "  <thead>\n",
       "    <tr style=\"text-align: right;\">\n",
       "      <th></th>\n",
       "      <th>count</th>\n",
       "      <th>mean</th>\n",
       "      <th>std</th>\n",
       "      <th>min</th>\n",
       "      <th>1%</th>\n",
       "      <th>5%</th>\n",
       "      <th>10%</th>\n",
       "      <th>25%</th>\n",
       "      <th>50%</th>\n",
       "      <th>75%</th>\n",
       "      <th>90%</th>\n",
       "      <th>95%</th>\n",
       "      <th>99%</th>\n",
       "      <th>max</th>\n",
       "    </tr>\n",
       "  </thead>\n",
       "  <tbody>\n",
       "    <tr>\n",
       "      <th>Administrative</th>\n",
       "      <td>12330.0</td>\n",
       "      <td>2.315166</td>\n",
       "      <td>3.321784</td>\n",
       "      <td>0.0</td>\n",
       "      <td>0.00000</td>\n",
       "      <td>0.000000</td>\n",
       "      <td>0.000000</td>\n",
       "      <td>0.000000</td>\n",
       "      <td>1.000000</td>\n",
       "      <td>4.000000</td>\n",
       "      <td>7.000000</td>\n",
       "      <td>9.000000</td>\n",
       "      <td>14.000000</td>\n",
       "      <td>27.000000</td>\n",
       "    </tr>\n",
       "    <tr>\n",
       "      <th>Administrative_Duration</th>\n",
       "      <td>12330.0</td>\n",
       "      <td>80.818611</td>\n",
       "      <td>176.779107</td>\n",
       "      <td>0.0</td>\n",
       "      <td>0.00000</td>\n",
       "      <td>0.000000</td>\n",
       "      <td>0.000000</td>\n",
       "      <td>0.000000</td>\n",
       "      <td>7.500000</td>\n",
       "      <td>93.256250</td>\n",
       "      <td>224.887500</td>\n",
       "      <td>348.266369</td>\n",
       "      <td>830.587041</td>\n",
       "      <td>3398.750000</td>\n",
       "    </tr>\n",
       "    <tr>\n",
       "      <th>Informational</th>\n",
       "      <td>12330.0</td>\n",
       "      <td>0.503569</td>\n",
       "      <td>1.270156</td>\n",
       "      <td>0.0</td>\n",
       "      <td>0.00000</td>\n",
       "      <td>0.000000</td>\n",
       "      <td>0.000000</td>\n",
       "      <td>0.000000</td>\n",
       "      <td>0.000000</td>\n",
       "      <td>0.000000</td>\n",
       "      <td>2.000000</td>\n",
       "      <td>3.000000</td>\n",
       "      <td>6.000000</td>\n",
       "      <td>24.000000</td>\n",
       "    </tr>\n",
       "    <tr>\n",
       "      <th>Informational_Duration</th>\n",
       "      <td>12330.0</td>\n",
       "      <td>34.472398</td>\n",
       "      <td>140.749294</td>\n",
       "      <td>0.0</td>\n",
       "      <td>0.00000</td>\n",
       "      <td>0.000000</td>\n",
       "      <td>0.000000</td>\n",
       "      <td>0.000000</td>\n",
       "      <td>0.000000</td>\n",
       "      <td>0.000000</td>\n",
       "      <td>72.000000</td>\n",
       "      <td>195.000000</td>\n",
       "      <td>716.390000</td>\n",
       "      <td>2549.375000</td>\n",
       "    </tr>\n",
       "    <tr>\n",
       "      <th>ProductRelated</th>\n",
       "      <td>12330.0</td>\n",
       "      <td>31.731468</td>\n",
       "      <td>44.475503</td>\n",
       "      <td>0.0</td>\n",
       "      <td>1.00000</td>\n",
       "      <td>1.000000</td>\n",
       "      <td>3.000000</td>\n",
       "      <td>7.000000</td>\n",
       "      <td>18.000000</td>\n",
       "      <td>38.000000</td>\n",
       "      <td>74.000000</td>\n",
       "      <td>109.000000</td>\n",
       "      <td>221.000000</td>\n",
       "      <td>705.000000</td>\n",
       "    </tr>\n",
       "    <tr>\n",
       "      <th>ProductRelated_Duration</th>\n",
       "      <td>12330.0</td>\n",
       "      <td>1194.746220</td>\n",
       "      <td>1913.669288</td>\n",
       "      <td>0.0</td>\n",
       "      <td>0.00000</td>\n",
       "      <td>0.000000</td>\n",
       "      <td>36.000000</td>\n",
       "      <td>184.137500</td>\n",
       "      <td>598.936905</td>\n",
       "      <td>1464.157214</td>\n",
       "      <td>2877.863333</td>\n",
       "      <td>4300.289077</td>\n",
       "      <td>8701.142697</td>\n",
       "      <td>63973.522230</td>\n",
       "    </tr>\n",
       "    <tr>\n",
       "      <th>BounceRates</th>\n",
       "      <td>12330.0</td>\n",
       "      <td>0.022191</td>\n",
       "      <td>0.048488</td>\n",
       "      <td>0.0</td>\n",
       "      <td>0.00000</td>\n",
       "      <td>0.000000</td>\n",
       "      <td>0.000000</td>\n",
       "      <td>0.000000</td>\n",
       "      <td>0.003112</td>\n",
       "      <td>0.016813</td>\n",
       "      <td>0.058197</td>\n",
       "      <td>0.200000</td>\n",
       "      <td>0.200000</td>\n",
       "      <td>0.200000</td>\n",
       "    </tr>\n",
       "    <tr>\n",
       "      <th>ExitRates</th>\n",
       "      <td>12330.0</td>\n",
       "      <td>0.043073</td>\n",
       "      <td>0.048597</td>\n",
       "      <td>0.0</td>\n",
       "      <td>0.00125</td>\n",
       "      <td>0.004568</td>\n",
       "      <td>0.007449</td>\n",
       "      <td>0.014286</td>\n",
       "      <td>0.025156</td>\n",
       "      <td>0.050000</td>\n",
       "      <td>0.100000</td>\n",
       "      <td>0.200000</td>\n",
       "      <td>0.200000</td>\n",
       "      <td>0.200000</td>\n",
       "    </tr>\n",
       "    <tr>\n",
       "      <th>PageValues</th>\n",
       "      <td>12330.0</td>\n",
       "      <td>5.889258</td>\n",
       "      <td>18.568437</td>\n",
       "      <td>0.0</td>\n",
       "      <td>0.00000</td>\n",
       "      <td>0.000000</td>\n",
       "      <td>0.000000</td>\n",
       "      <td>0.000000</td>\n",
       "      <td>0.000000</td>\n",
       "      <td>0.000000</td>\n",
       "      <td>18.855502</td>\n",
       "      <td>38.160528</td>\n",
       "      <td>85.498490</td>\n",
       "      <td>361.763742</td>\n",
       "    </tr>\n",
       "    <tr>\n",
       "      <th>SpecialDay</th>\n",
       "      <td>12330.0</td>\n",
       "      <td>0.061427</td>\n",
       "      <td>0.198917</td>\n",
       "      <td>0.0</td>\n",
       "      <td>0.00000</td>\n",
       "      <td>0.000000</td>\n",
       "      <td>0.000000</td>\n",
       "      <td>0.000000</td>\n",
       "      <td>0.000000</td>\n",
       "      <td>0.000000</td>\n",
       "      <td>0.200000</td>\n",
       "      <td>0.600000</td>\n",
       "      <td>1.000000</td>\n",
       "      <td>1.000000</td>\n",
       "    </tr>\n",
       "    <tr>\n",
       "      <th>OperatingSystems</th>\n",
       "      <td>12330.0</td>\n",
       "      <td>2.124006</td>\n",
       "      <td>0.911325</td>\n",
       "      <td>1.0</td>\n",
       "      <td>1.00000</td>\n",
       "      <td>1.000000</td>\n",
       "      <td>1.000000</td>\n",
       "      <td>2.000000</td>\n",
       "      <td>2.000000</td>\n",
       "      <td>3.000000</td>\n",
       "      <td>3.000000</td>\n",
       "      <td>3.000000</td>\n",
       "      <td>4.000000</td>\n",
       "      <td>8.000000</td>\n",
       "    </tr>\n",
       "    <tr>\n",
       "      <th>Browser</th>\n",
       "      <td>12330.0</td>\n",
       "      <td>2.357097</td>\n",
       "      <td>1.717277</td>\n",
       "      <td>1.0</td>\n",
       "      <td>1.00000</td>\n",
       "      <td>1.000000</td>\n",
       "      <td>1.000000</td>\n",
       "      <td>2.000000</td>\n",
       "      <td>2.000000</td>\n",
       "      <td>2.000000</td>\n",
       "      <td>4.000000</td>\n",
       "      <td>5.000000</td>\n",
       "      <td>10.000000</td>\n",
       "      <td>13.000000</td>\n",
       "    </tr>\n",
       "    <tr>\n",
       "      <th>Region</th>\n",
       "      <td>12330.0</td>\n",
       "      <td>3.147364</td>\n",
       "      <td>2.401591</td>\n",
       "      <td>1.0</td>\n",
       "      <td>1.00000</td>\n",
       "      <td>1.000000</td>\n",
       "      <td>1.000000</td>\n",
       "      <td>1.000000</td>\n",
       "      <td>3.000000</td>\n",
       "      <td>4.000000</td>\n",
       "      <td>7.000000</td>\n",
       "      <td>8.000000</td>\n",
       "      <td>9.000000</td>\n",
       "      <td>9.000000</td>\n",
       "    </tr>\n",
       "    <tr>\n",
       "      <th>TrafficType</th>\n",
       "      <td>12330.0</td>\n",
       "      <td>4.069586</td>\n",
       "      <td>4.025169</td>\n",
       "      <td>1.0</td>\n",
       "      <td>1.00000</td>\n",
       "      <td>1.000000</td>\n",
       "      <td>1.000000</td>\n",
       "      <td>2.000000</td>\n",
       "      <td>2.000000</td>\n",
       "      <td>4.000000</td>\n",
       "      <td>11.000000</td>\n",
       "      <td>13.000000</td>\n",
       "      <td>20.000000</td>\n",
       "      <td>20.000000</td>\n",
       "    </tr>\n",
       "  </tbody>\n",
       "</table>\n",
       "</div>"
      ],
      "text/plain": [
       "                           count         mean          std  min       1%  \\\n",
       "Administrative           12330.0     2.315166     3.321784  0.0  0.00000   \n",
       "Administrative_Duration  12330.0    80.818611   176.779107  0.0  0.00000   \n",
       "Informational            12330.0     0.503569     1.270156  0.0  0.00000   \n",
       "Informational_Duration   12330.0    34.472398   140.749294  0.0  0.00000   \n",
       "ProductRelated           12330.0    31.731468    44.475503  0.0  1.00000   \n",
       "ProductRelated_Duration  12330.0  1194.746220  1913.669288  0.0  0.00000   \n",
       "BounceRates              12330.0     0.022191     0.048488  0.0  0.00000   \n",
       "ExitRates                12330.0     0.043073     0.048597  0.0  0.00125   \n",
       "PageValues               12330.0     5.889258    18.568437  0.0  0.00000   \n",
       "SpecialDay               12330.0     0.061427     0.198917  0.0  0.00000   \n",
       "OperatingSystems         12330.0     2.124006     0.911325  1.0  1.00000   \n",
       "Browser                  12330.0     2.357097     1.717277  1.0  1.00000   \n",
       "Region                   12330.0     3.147364     2.401591  1.0  1.00000   \n",
       "TrafficType              12330.0     4.069586     4.025169  1.0  1.00000   \n",
       "\n",
       "                               5%        10%         25%         50%  \\\n",
       "Administrative           0.000000   0.000000    0.000000    1.000000   \n",
       "Administrative_Duration  0.000000   0.000000    0.000000    7.500000   \n",
       "Informational            0.000000   0.000000    0.000000    0.000000   \n",
       "Informational_Duration   0.000000   0.000000    0.000000    0.000000   \n",
       "ProductRelated           1.000000   3.000000    7.000000   18.000000   \n",
       "ProductRelated_Duration  0.000000  36.000000  184.137500  598.936905   \n",
       "BounceRates              0.000000   0.000000    0.000000    0.003112   \n",
       "ExitRates                0.004568   0.007449    0.014286    0.025156   \n",
       "PageValues               0.000000   0.000000    0.000000    0.000000   \n",
       "SpecialDay               0.000000   0.000000    0.000000    0.000000   \n",
       "OperatingSystems         1.000000   1.000000    2.000000    2.000000   \n",
       "Browser                  1.000000   1.000000    2.000000    2.000000   \n",
       "Region                   1.000000   1.000000    1.000000    3.000000   \n",
       "TrafficType              1.000000   1.000000    2.000000    2.000000   \n",
       "\n",
       "                                 75%          90%          95%          99%  \\\n",
       "Administrative              4.000000     7.000000     9.000000    14.000000   \n",
       "Administrative_Duration    93.256250   224.887500   348.266369   830.587041   \n",
       "Informational               0.000000     2.000000     3.000000     6.000000   \n",
       "Informational_Duration      0.000000    72.000000   195.000000   716.390000   \n",
       "ProductRelated             38.000000    74.000000   109.000000   221.000000   \n",
       "ProductRelated_Duration  1464.157214  2877.863333  4300.289077  8701.142697   \n",
       "BounceRates                 0.016813     0.058197     0.200000     0.200000   \n",
       "ExitRates                   0.050000     0.100000     0.200000     0.200000   \n",
       "PageValues                  0.000000    18.855502    38.160528    85.498490   \n",
       "SpecialDay                  0.000000     0.200000     0.600000     1.000000   \n",
       "OperatingSystems            3.000000     3.000000     3.000000     4.000000   \n",
       "Browser                     2.000000     4.000000     5.000000    10.000000   \n",
       "Region                      4.000000     7.000000     8.000000     9.000000   \n",
       "TrafficType                 4.000000    11.000000    13.000000    20.000000   \n",
       "\n",
       "                                  max  \n",
       "Administrative              27.000000  \n",
       "Administrative_Duration   3398.750000  \n",
       "Informational               24.000000  \n",
       "Informational_Duration    2549.375000  \n",
       "ProductRelated             705.000000  \n",
       "ProductRelated_Duration  63973.522230  \n",
       "BounceRates                  0.200000  \n",
       "ExitRates                    0.200000  \n",
       "PageValues                 361.763742  \n",
       "SpecialDay                   1.000000  \n",
       "OperatingSystems             8.000000  \n",
       "Browser                     13.000000  \n",
       "Region                       9.000000  \n",
       "TrafficType                 20.000000  "
      ]
     },
     "execution_count": 3,
     "metadata": {},
     "output_type": "execute_result"
    }
   ],
   "source": [
    "# Get the info (column number and name, non-null count, and dtype) for each column in the training df\n",
    "df_data.info()\n",
    "# Get summary statistics for the training df with the describe() method\n",
    "df_data.describe(percentiles=[0.01, 0.05, 0.1, 0.25,0.5,0.75,0.9,0.95,0.99]).T"
   ]
  },
  {
   "cell_type": "markdown",
   "metadata": {
    "id": "dEVuWyb2tj8k"
   },
   "source": [
    "## Cleaning:\n",
    "1. There are no missing values\n",
    "2. There is a need to delete observations with \"_Duration\" that is greater than 99th persentile in training data to eliminate observations that are related to the event a user \"forgot\" to close a page \n",
    "3. There is a need to delete observations with \"PageValue\" that is greater than 99th persentile in training data to eliminate bogus observations"
   ]
  },
  {
   "cell_type": "code",
   "execution_count": 4,
   "metadata": {
    "colab": {
     "base_uri": "https://localhost:8080/"
    },
    "id": "dpSJTXnLXpUm",
    "outputId": "9b3b9e52-f4ce-4823-eb7b-32a5fe67909d"
   },
   "outputs": [
    {
     "name": "stdout",
     "output_type": "stream",
     "text": [
      "Initial number of records: 12330\n",
      "Deleted observations with extream values in  Administrative_Duration \t deleted: 124\n",
      "Deleted observations with extream values in  Informational_Duration \t deleted: 123\n",
      "Deleted observations with extream values in  ProductRelated_Duration \t deleted: 121\n",
      "Deleted observations with extream values in  PageValues \t deleted: 120\n",
      "Total number of records deleted: 488\n"
     ]
    }
   ],
   "source": [
    "#cleaning the data\n",
    "ini_length = len(df_data)\n",
    "print(\"Initial number of records:\", len(df_data))\n",
    "columns = ['Administrative_Duration', 'Informational_Duration', 'ProductRelated_Duration', 'PageValues']\n",
    "\n",
    "df_tmp = df_data.copy()\n",
    "for column in columns:\n",
    "  ini_length_1 = len(df_data)\n",
    "  pst99 = df_data[column].quantile(0.99)\n",
    "  df_data = df_data[df_data[column] <= pst99]\n",
    "  print(\"Deleted observations with extream values in \", column, \"\\t deleted:\", ini_length_1 - len(df_data))\n",
    "\n",
    "print(\"Total number of records deleted:\", ini_length - len(df_data))"
   ]
  },
  {
   "cell_type": "code",
   "execution_count": 5,
   "metadata": {
    "colab": {
     "base_uri": "https://localhost:8080/"
    },
    "id": "D4Bx2418go7X",
    "outputId": "dcc9795e-4106-4df9-85aa-8afb7de9e545"
   },
   "outputs": [
    {
     "data": {
      "text/plain": [
       "1      621\n",
       "2      463\n",
       "3      454\n",
       "4      403\n",
       "6      390\n",
       "      ... \n",
       "165      1\n",
       "173      1\n",
       "237      1\n",
       "349      1\n",
       "223      1\n",
       "Name: ProductRelated, Length: 230, dtype: int64"
      ]
     },
     "execution_count": 5,
     "metadata": {},
     "output_type": "execute_result"
    }
   ],
   "source": [
    "#look at categorical columns: Administrative, Informational, ProductRelated\n",
    "df_data['ProductRelated'].value_counts()"
   ]
  },
  {
   "cell_type": "markdown",
   "metadata": {
    "id": "QjCKLvWMSwC1"
   },
   "source": [
    "## Data definitions and value distributions for non-numeric features"
   ]
  },
  {
   "cell_type": "code",
   "execution_count": 6,
   "metadata": {
    "colab": {
     "base_uri": "https://localhost:8080/"
    },
    "id": "ayMrxekMSf0V",
    "outputId": "596cb400-8eae-49cf-c49f-a9ccb0f84e5f"
   },
   "outputs": [
    {
     "data": {
      "text/plain": [
       "False    10137\n",
       "True      1705\n",
       "Name: Revenue, dtype: int64"
      ]
     },
     "execution_count": 6,
     "metadata": {},
     "output_type": "execute_result"
    }
   ],
   "source": [
    "#Look at label distribution\n",
    "df_data['Revenue'].value_counts()"
   ]
  },
  {
   "cell_type": "code",
   "execution_count": 7,
   "metadata": {
    "colab": {
     "base_uri": "https://localhost:8080/"
    },
    "id": "LOWv3fCXYKcS",
    "outputId": "f53d1516-593b-45a1-80ff-ceb6cf903c00"
   },
   "outputs": [
    {
     "name": "stdout",
     "output_type": "stream",
     "text": [
      "VisitorType\n",
      "Returning_Visitor    10134\n",
      "New_Visitor           1632\n",
      "Other                   76\n",
      "Name: VisitorType, dtype: int64\n",
      "\n",
      "\n",
      "Month:\n",
      "May     3284\n",
      "Nov     2806\n",
      "Mar     1852\n",
      "Dec     1657\n",
      "Oct      521\n",
      "Sep      426\n",
      "Jul      420\n",
      "Aug      415\n",
      "June     278\n",
      "Feb      183\n",
      "Name: Month, dtype: int64\n"
     ]
    }
   ],
   "source": [
    "#Inspect the unique values of the non-numeric columns, and their counts\n",
    "print('VisitorType')\n",
    "print(df_data['VisitorType'].value_counts())\n",
    "print(\"\\n\\nMonth:\")\n",
    "print(df_data['Month'].value_counts())"
   ]
  },
  {
   "cell_type": "markdown",
   "metadata": {},
   "source": [
    "## Plots"
   ]
  },
  {
   "cell_type": "code",
   "execution_count": 8,
   "metadata": {
    "id": "sfti9Ow6WKGv"
   },
   "outputs": [],
   "source": [
    "numeric_columns = [c for c in df_data.columns if df_data[c].dtype not in [\"bool\", \"object\"]]"
   ]
  },
  {
   "cell_type": "code",
   "execution_count": 9,
   "metadata": {
    "colab": {
     "base_uri": "https://localhost:8080/",
     "height": 1000
    },
    "id": "z-t6MzWfebA-",
    "outputId": "c024676e-534d-4457-f75b-2673b5f28f74"
   },
   "outputs": [],
   "source": [
    "# sns.pairplot(df_data[numeric_columns[:9] + [\"Revenue\"]],              \n",
    "#              x_vars= numeric_columns[:9],\n",
    "#              y_vars= numeric_columns[:9] + [\"Revenue\"],\n",
    "#              hue=\"Revenue\")"
   ]
  },
  {
   "cell_type": "markdown",
   "metadata": {
    "id": "TW__L_HKkB4P"
   },
   "source": [
    "##### Conclusion: \n",
    "Plots for \"BounceRates\"+\"ExitRates\" and \"ProductRelated\"+\"ProductRelated_Duration\" show high correlation and exhibit similar patterns in \"Revenue\" and when combined with other features.\n",
    "\n",
    "Hence one in each pair can be excluded from the analysis.\n",
    "I selected \"ExitRates\" and \"ProductRelated_Duration\" for classification below. "
   ]
  },
  {
   "cell_type": "code",
   "execution_count": 10,
   "metadata": {},
   "outputs": [
    {
     "data": {
      "text/plain": [
       "<AxesSubplot:>"
      ]
     },
     "execution_count": 10,
     "metadata": {},
     "output_type": "execute_result"
    },
    {
     "data": {
      "image/png": "[encoded data removed]",
      "text/plain": [
       "<Figure size 432x288 with 2 Axes>"
      ]
     },
     "metadata": {
      "needs_background": "light"
     },
     "output_type": "display_data"
    }
   ],
   "source": [
    "# correlation plot\n",
    "corr = df_data[numeric_columns].corr()\n",
    "sns.heatmap(corr,xticklabels=corr.columns.values, yticklabels=corr.columns.values)"
   ]
  },
  {
   "cell_type": "code",
   "execution_count": 11,
   "metadata": {
    "id": "EQW0prnAjhol"
   },
   "outputs": [],
   "source": [
    "#delete highly correlated features\n",
    "del df_data['BounceRates']\n",
    "del df_data['ProductRelated']"
   ]
  },
  {
   "cell_type": "code",
   "execution_count": 12,
   "metadata": {
    "colab": {
     "base_uri": "https://localhost:8080/",
     "height": 1000
    },
    "id": "z87i7Ik7ebF0",
    "outputId": "dbe8b56d-8acd-4a9b-8ddf-bb0e01dcd733"
   },
   "outputs": [],
   "source": [
    "# sns.pairplot(df_data[numeric_columns[9:] + ['VisitorType', \"Revenue\"]],                           \n",
    "#              x_vars= numeric_columns[9:] + ['VisitorType'],\n",
    "#              y_vars= numeric_columns[9:] + ['VisitorType', \"Revenue\"],\n",
    "#              diag_kind = \"hist\",             \n",
    "#              hue=\"Revenue\")"
   ]
  },
  {
   "attachments": {},
   "cell_type": "markdown",
   "metadata": {
    "id": "sVpDyoDXncH3"
   },
   "source": [
    "### Conclusion\n",
    "Although these categorical features do not have any obvious separation in Revenue, it is worth to examing further their possible indication of a purchase."
   ]
  },
  {
   "cell_type": "markdown",
   "metadata": {
    "id": "LG_XeMrLkKJ8"
   },
   "source": [
    "#Prepare data for analysis"
   ]
  },
  {
   "cell_type": "code",
   "execution_count": 13,
   "metadata": {
    "id": "ERV37Mt0Yt8X"
   },
   "outputs": [
    {
     "data": {
      "text/html": [
       "<div>\n",
       "<style scoped>\n",
       "    .dataframe tbody tr th:only-of-type {\n",
       "        vertical-align: middle;\n",
       "    }\n",
       "\n",
       "    .dataframe tbody tr th {\n",
       "        vertical-align: top;\n",
       "    }\n",
       "\n",
       "    .dataframe thead th {\n",
       "        text-align: right;\n",
       "    }\n",
       "</style>\n",
       "<table border=\"1\" class=\"dataframe\">\n",
       "  <thead>\n",
       "    <tr style=\"text-align: right;\">\n",
       "      <th></th>\n",
       "      <th>Administrative</th>\n",
       "      <th>Administrative_Duration</th>\n",
       "      <th>Informational</th>\n",
       "      <th>Informational_Duration</th>\n",
       "      <th>ProductRelated_Duration</th>\n",
       "      <th>ExitRates</th>\n",
       "      <th>PageValues</th>\n",
       "      <th>SpecialDay</th>\n",
       "      <th>Month</th>\n",
       "      <th>OperatingSystems</th>\n",
       "      <th>Browser</th>\n",
       "      <th>Region</th>\n",
       "      <th>TrafficType</th>\n",
       "      <th>VisitorType</th>\n",
       "      <th>Weekend</th>\n",
       "      <th>Revenue</th>\n",
       "    </tr>\n",
       "  </thead>\n",
       "  <tbody>\n",
       "    <tr>\n",
       "      <th>0</th>\n",
       "      <td>0</td>\n",
       "      <td>0.0</td>\n",
       "      <td>0</td>\n",
       "      <td>0.0</td>\n",
       "      <td>0.000000</td>\n",
       "      <td>0.20</td>\n",
       "      <td>0.0</td>\n",
       "      <td>0.0</td>\n",
       "      <td>2</td>\n",
       "      <td>1</td>\n",
       "      <td>1</td>\n",
       "      <td>1</td>\n",
       "      <td>1</td>\n",
       "      <td>Returning_Visitor</td>\n",
       "      <td>False</td>\n",
       "      <td>False</td>\n",
       "    </tr>\n",
       "    <tr>\n",
       "      <th>1</th>\n",
       "      <td>0</td>\n",
       "      <td>0.0</td>\n",
       "      <td>0</td>\n",
       "      <td>0.0</td>\n",
       "      <td>64.000000</td>\n",
       "      <td>0.10</td>\n",
       "      <td>0.0</td>\n",
       "      <td>0.0</td>\n",
       "      <td>2</td>\n",
       "      <td>2</td>\n",
       "      <td>2</td>\n",
       "      <td>1</td>\n",
       "      <td>2</td>\n",
       "      <td>Returning_Visitor</td>\n",
       "      <td>False</td>\n",
       "      <td>False</td>\n",
       "    </tr>\n",
       "    <tr>\n",
       "      <th>2</th>\n",
       "      <td>0</td>\n",
       "      <td>0.0</td>\n",
       "      <td>0</td>\n",
       "      <td>0.0</td>\n",
       "      <td>0.000000</td>\n",
       "      <td>0.20</td>\n",
       "      <td>0.0</td>\n",
       "      <td>0.0</td>\n",
       "      <td>2</td>\n",
       "      <td>4</td>\n",
       "      <td>1</td>\n",
       "      <td>9</td>\n",
       "      <td>3</td>\n",
       "      <td>Returning_Visitor</td>\n",
       "      <td>False</td>\n",
       "      <td>False</td>\n",
       "    </tr>\n",
       "    <tr>\n",
       "      <th>3</th>\n",
       "      <td>0</td>\n",
       "      <td>0.0</td>\n",
       "      <td>0</td>\n",
       "      <td>0.0</td>\n",
       "      <td>2.666667</td>\n",
       "      <td>0.14</td>\n",
       "      <td>0.0</td>\n",
       "      <td>0.0</td>\n",
       "      <td>2</td>\n",
       "      <td>3</td>\n",
       "      <td>2</td>\n",
       "      <td>2</td>\n",
       "      <td>4</td>\n",
       "      <td>Returning_Visitor</td>\n",
       "      <td>False</td>\n",
       "      <td>False</td>\n",
       "    </tr>\n",
       "    <tr>\n",
       "      <th>4</th>\n",
       "      <td>0</td>\n",
       "      <td>0.0</td>\n",
       "      <td>0</td>\n",
       "      <td>0.0</td>\n",
       "      <td>627.500000</td>\n",
       "      <td>0.05</td>\n",
       "      <td>0.0</td>\n",
       "      <td>0.0</td>\n",
       "      <td>2</td>\n",
       "      <td>3</td>\n",
       "      <td>3</td>\n",
       "      <td>1</td>\n",
       "      <td>4</td>\n",
       "      <td>Returning_Visitor</td>\n",
       "      <td>True</td>\n",
       "      <td>False</td>\n",
       "    </tr>\n",
       "  </tbody>\n",
       "</table>\n",
       "</div>"
      ],
      "text/plain": [
       "   Administrative  Administrative_Duration  Informational  \\\n",
       "0               0                      0.0              0   \n",
       "1               0                      0.0              0   \n",
       "2               0                      0.0              0   \n",
       "3               0                      0.0              0   \n",
       "4               0                      0.0              0   \n",
       "\n",
       "   Informational_Duration  ProductRelated_Duration  ExitRates  PageValues  \\\n",
       "0                     0.0                 0.000000       0.20         0.0   \n",
       "1                     0.0                64.000000       0.10         0.0   \n",
       "2                     0.0                 0.000000       0.20         0.0   \n",
       "3                     0.0                 2.666667       0.14         0.0   \n",
       "4                     0.0               627.500000       0.05         0.0   \n",
       "\n",
       "   SpecialDay  Month  OperatingSystems  Browser  Region  TrafficType  \\\n",
       "0         0.0      2                 1        1       1            1   \n",
       "1         0.0      2                 2        2       1            2   \n",
       "2         0.0      2                 4        1       9            3   \n",
       "3         0.0      2                 3        2       2            4   \n",
       "4         0.0      2                 3        3       1            4   \n",
       "\n",
       "         VisitorType  Weekend  Revenue  \n",
       "0  Returning_Visitor    False    False  \n",
       "1  Returning_Visitor    False    False  \n",
       "2  Returning_Visitor    False    False  \n",
       "3  Returning_Visitor    False    False  \n",
       "4  Returning_Visitor     True    False  "
      ]
     },
     "execution_count": 13,
     "metadata": {},
     "output_type": "execute_result"
    }
   ],
   "source": [
    "#Map the months from strings to integers, with 1 corresponding to January, etc.\n",
    "month_mapping = {'Jan':1,\n",
    "                 'Feb':2,\n",
    "                 'Mar':3,\n",
    "                 'Apr':4,\n",
    "                 'May':5,\n",
    "                 'June':6,\n",
    "                 'Jul':7,\n",
    "                 'Aug':8,\n",
    "                 'Sep':9,\n",
    "                 'Oct':10,\n",
    "                 'Nov':11,\n",
    "                 'Dec':12}\n",
    "# Map the months\n",
    "df_data['Month'] = df_data['Month'].map(month_mapping)\n",
    "\n",
    "df_data.head()"
   ]
  },
  {
   "cell_type": "code",
   "execution_count": 14,
   "metadata": {
    "colab": {
     "base_uri": "https://localhost:8080/"
    },
    "id": "Szj5N6zSZOwf",
    "outputId": "d20ae19c-35cd-451a-a148-30a4887afb5c"
   },
   "outputs": [
    {
     "data": {
      "text/plain": [
       "Index(['Administrative', 'Administrative_Duration', 'Informational',\n",
       "       'Informational_Duration', 'ProductRelated_Duration', 'ExitRates',\n",
       "       'PageValues', 'Month', 'Revenue', 'SpecialDay_0.2', 'SpecialDay_0.4',\n",
       "       'SpecialDay_0.6', 'SpecialDay_0.8', 'SpecialDay_1.0',\n",
       "       'OperatingSystems_2', 'OperatingSystems_3', 'OperatingSystems_4',\n",
       "       'OperatingSystems_5', 'OperatingSystems_6', 'OperatingSystems_7',\n",
       "       'OperatingSystems_8', 'Browser_10', 'Browser_11', 'Browser_12',\n",
       "       'Browser_13', 'Browser_2', 'Browser_3', 'Browser_4', 'Browser_5',\n",
       "       'Browser_6', 'Browser_7', 'Browser_8', 'Browser_9', 'Region_2',\n",
       "       'Region_3', 'Region_4', 'Region_5', 'Region_6', 'Region_7', 'Region_8',\n",
       "       'Region_9', 'TrafficType_10', 'TrafficType_11', 'TrafficType_12',\n",
       "       'TrafficType_13', 'TrafficType_14', 'TrafficType_15', 'TrafficType_16',\n",
       "       'TrafficType_17', 'TrafficType_18', 'TrafficType_19', 'TrafficType_2',\n",
       "       'TrafficType_20', 'TrafficType_3', 'TrafficType_4', 'TrafficType_5',\n",
       "       'TrafficType_6', 'TrafficType_7', 'TrafficType_8', 'TrafficType_9',\n",
       "       'VisitorType_Other', 'VisitorType_Returning_Visitor', 'Weekend_True'],\n",
       "      dtype='object')"
      ]
     },
     "execution_count": 14,
     "metadata": {},
     "output_type": "execute_result"
    }
   ],
   "source": [
    "#One-hot encode the categorical features\n",
    "categorical_columns = ['SpecialDay', 'OperatingSystems', 'Browser', \n",
    "                       'Region', 'TrafficType', 'VisitorType',\n",
    "                      'Weekend']\n",
    "for column in categorical_columns:\n",
    "      df_data[column] = df_data[column].apply(str)\n",
    "\n",
    "df_dummies = pd.get_dummies(df_data[categorical_columns], drop_first=True)\n",
    "\n",
    "df_data = df_data.drop(categorical_columns, axis=1)\n",
    "df_data = pd.concat([df_data, df_dummies], axis=1)\n",
    "df_data.columns"
   ]
  },
  {
   "cell_type": "code",
   "execution_count": 15,
   "metadata": {
    "colab": {
     "base_uri": "https://localhost:8080/"
    },
    "id": "lNTbDKhxtq_3",
    "outputId": "74314600-ae6b-4d50-de4f-dd4084b4fc10"
   },
   "outputs": [
    {
     "data": {
      "text/plain": [
       "(6523, 2035)"
      ]
     },
     "execution_count": 15,
     "metadata": {},
     "output_type": "execute_result"
    }
   ],
   "source": [
    "#Split data on train and test (Train data entries corresponding to the months of June-Dec, and test data entries corresponding to Feb-March.)\n",
    "df_train = df_data[df_data['Month'] >= 6]\n",
    "df_test = df_data[(df_data['Month'] >= 2) & (df_data['Month'] <= 3)]\n",
    "len(df_train), len(df_test)"
   ]
  },
  {
   "cell_type": "code",
   "execution_count": 16,
   "metadata": {
    "colab": {
     "base_uri": "https://localhost:8080/",
     "height": 388
    },
    "id": "dBXafmmLq6tb",
    "outputId": "16a3d553-8ca1-40c7-974a-b29b130755a5"
   },
   "outputs": [
    {
     "data": {
      "image/png": "[encoded data removed]",
      "text/plain": [
       "<Figure size 432x288 with 2 Axes>"
      ]
     },
     "metadata": {
      "needs_background": "light"
     },
     "output_type": "display_data"
    }
   ],
   "source": [
    "# Compute the Pearson Correlation of each feature and vizualise it\n",
    "cor = df_train.corr()\n",
    "sns.heatmap(cor)\n",
    "plt.show()"
   ]
  },
  {
   "cell_type": "markdown",
   "metadata": {
    "id": "KiXVCpKas8b8"
   },
   "source": [
    "Some features are highly correlated.\n",
    "# Feature Selection on p-value (statistical significance to Y value)"
   ]
  },
  {
   "cell_type": "code",
   "execution_count": 17,
   "metadata": {
    "colab": {
     "base_uri": "https://localhost:8080/"
    },
    "id": "1HWlKVmztDHN",
    "outputId": "e9790717-b524-45dd-b7d6-25f343579eb7"
   },
   "outputs": [
    {
     "name": "stderr",
     "output_type": "stream",
     "text": [
      "c:\\Users\\jayde\\AppData\\Local\\Programs\\Python\\Python38\\lib\\site-packages\\statsmodels\\regression\\linear_model.py:1934: RuntimeWarning: divide by zero encountered in double_scalars\n",
      "  return np.sqrt(eigvals[0]/eigvals[-1])\n"
     ]
    }
   ],
   "source": [
    "y = df_train['Revenue'].values\n",
    "columns = list(df_train.columns)\n",
    "df_out = df_train[columns].copy()\n",
    "del df_out['Revenue']\n",
    "del df_out['Month']\n",
    "\n",
    "\n",
    "def backwardElimination(x, y, sl, columns):\n",
    "    numVars = len(x[0])\n",
    "    for i in range(0, numVars):\n",
    "        regressor_OLS = sm.OLS(y, x).fit()\n",
    "        maxVar = max(regressor_OLS.pvalues)\n",
    "        if maxVar > sl:\n",
    "            for j in range(0, numVars - i):\n",
    "                if (regressor_OLS.pvalues[j].astype(float) == maxVar):\n",
    "                    x = np.delete(x, j, 1)\n",
    "                    columns = np.delete(columns, j)\n",
    "                    \n",
    "    regressor_OLS.summary()\n",
    "    return x, columns\n",
    "\n",
    "SL = 0.01\n",
    "data_modeled, pv_selected_columns = backwardElimination(df_out.values, y, SL, columns)"
   ]
  },
  {
   "cell_type": "code",
   "execution_count": 18,
   "metadata": {
    "colab": {
     "base_uri": "https://localhost:8080/"
    },
    "id": "ssx3Nm9ktDmp",
    "outputId": "c19210c7-9673-40bd-8a1f-e0f5ed7fdb58"
   },
   "outputs": [
    {
     "name": "stdout",
     "output_type": "stream",
     "text": [
      "The following columns remain based on p-value selection:\n",
      "['ProductRelated_Duration' 'PageValues' 'Browser_12' 'Browser_2'\n",
      " 'Region_8' 'Region_9' 'TrafficType_14' 'TrafficType_18' 'TrafficType_19'\n",
      " 'TrafficType_3' 'TrafficType_6' 'TrafficType_7'\n",
      " 'VisitorType_Returning_Visitor' 'Weekend_True']\n",
      "\n",
      "Number of columns selected: 14\n",
      "Excluded 48  of columns\n"
     ]
    }
   ],
   "source": [
    "print('The following columns remain based on p-value selection:')\n",
    "print(pv_selected_columns)\n",
    "print(\"\\nNumber of columns selected:\", len(pv_selected_columns))\n",
    "print(\"Excluded\", df_train.shape[1] - 1 - len(pv_selected_columns),\" of columns\")"
   ]
  },
  {
   "cell_type": "markdown",
   "metadata": {},
   "source": [
    "# Prepare data for future analysis"
   ]
  },
  {
   "cell_type": "code",
   "execution_count": 19,
   "metadata": {},
   "outputs": [
    {
     "name": "stdout",
     "output_type": "stream",
     "text": [
      "(6523, 14) (6523,)\n",
      "(2035, 14) (2035,)\n"
     ]
    }
   ],
   "source": [
    "X_train = df_train[pv_selected_columns].values\n",
    "y_train = df_train['Revenue'].values\n",
    "\n",
    "X_test = df_test[pv_selected_columns].values\n",
    "y_test = df_test['Revenue'].values\n",
    "\n",
    "print(X_train.shape, y_train.shape)\n",
    "print(X_test.shape, y_test.shape)"
   ]
  },
  {
   "cell_type": "markdown",
   "metadata": {},
   "source": [
    "## Transfer data frame between Jupiter notebooks\n",
    "Next step \"Text preprocessing\" is coded in separate Jupiter notebook. So that\n",
    "- it is easier to locate program for a particular task\n",
    "- Jupiter notebook is not very long and easier to read"
   ]
  },
  {
   "cell_type": "code",
   "execution_count": 20,
   "metadata": {},
   "outputs": [],
   "source": [
    "import pickle\n",
    "with open('df_data.pickle', 'wb') as f:\n",
    "    pickle.dump(df_data, f, pickle.HIGHEST_PROTOCOL)\n",
    "\n",
    "with open('X_train.pickle', 'wb') as f:\n",
    "    pickle.dump(X_train, f, pickle.HIGHEST_PROTOCOL)\n",
    "\n",
    "with open('y_train.pickle', 'wb') as f:\n",
    "    pickle.dump(y_train, f, pickle.HIGHEST_PROTOCOL)\n",
    "\n",
    "with open('X_test.pickle', 'wb') as f:\n",
    "    pickle.dump(X_test, f, pickle.HIGHEST_PROTOCOL)\n",
    "\n",
    "with open('y_test.pickle', 'wb') as f:\n",
    "    pickle.dump(y_test, f, pickle.HIGHEST_PROTOCOL)"
   ]
  }
 ],
 "metadata": {
  "colab": {
   "collapsed_sections": [
    "nCXFHXr8Qjs_",
    "0tpS8JDKQjs_",
    "SGjBlxpAQjtB"
   ],
   "name": "ML_for_Data_Science 20210506.ipynb",
   "provenance": []
  },
  "kernelspec": {
   "display_name": "Python 3",
   "language": "python",
   "name": "python3"
  },
  "language_info": {
   "codemirror_mode": {
    "name": "ipython",
    "version": 3
   },
   "file_extension": ".py",
   "mimetype": "text/x-python",
   "name": "python",
   "nbconvert_exporter": "python",
   "pygments_lexer": "ipython3",
   "version": "3.8.7"
  },
  "toc": {
   "base_numbering": 1,
   "nav_menu": {},
   "number_sections": true,
   "sideBar": true,
   "skip_h1_title": false,
   "title_cell": "Table of Contents",
   "title_sidebar": "Contents",
   "toc_cell": false,
   "toc_position": {
    "height": "calc(100% - 180px)",
    "left": "10px",
    "top": "150px",
    "width": "329.797px"
   },
   "toc_section_display": true,
   "toc_window_display": true
  },
  "vscode": {
   "interpreter": {
    "hash": "28e1b576861228abcf292d5aee661eb2e4c4972fc2d268dd66cc4c0717cd3198"
   }
  }
 },
 "nbformat": 4,
 "nbformat_minor": 1
}
